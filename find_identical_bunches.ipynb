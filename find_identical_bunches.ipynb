{
 "cells": [
  {
   "cell_type": "code",
   "execution_count": 4,
   "metadata": {},
   "outputs": [
    {
     "ename": "ModuleNotFoundError",
     "evalue": "No module named 'fillingpatterns'",
     "output_type": "error",
     "traceback": [
      "\u001b[0;31m---------------------------------------------------------------------------\u001b[0m",
      "\u001b[0;31mModuleNotFoundError\u001b[0m                       Traceback (most recent call last)",
      "Cell \u001b[0;32mIn[4], line 8\u001b[0m\n\u001b[1;32m      6\u001b[0m \u001b[39mimport\u001b[39;00m \u001b[39mseaborn\u001b[39;00m \u001b[39mas\u001b[39;00m \u001b[39msns\u001b[39;00m\n\u001b[1;32m      7\u001b[0m \u001b[39mimport\u001b[39;00m \u001b[39mqrcode\u001b[39;00m\n\u001b[0;32m----> 8\u001b[0m \u001b[39mimport\u001b[39;00m \u001b[39mfillingpatterns\u001b[39;00m \u001b[39mas\u001b[39;00m \u001b[39mfp\u001b[39;00m\n\u001b[1;32m     10\u001b[0m sns\u001b[39m.\u001b[39mset_theme(style\u001b[39m=\u001b[39m\u001b[39m\"\u001b[39m\u001b[39mwhitegrid\u001b[39m\u001b[39m\"\u001b[39m)\n\u001b[1;32m     11\u001b[0m custom_params \u001b[39m=\u001b[39m {\u001b[39m\"\u001b[39m\u001b[39maxes.spines.right\u001b[39m\u001b[39m\"\u001b[39m: \u001b[39mFalse\u001b[39;00m, \u001b[39m\"\u001b[39m\u001b[39maxes.spines.top\u001b[39m\u001b[39m\"\u001b[39m: \u001b[39mFalse\u001b[39;00m}\n",
      "\u001b[0;31mModuleNotFoundError\u001b[0m: No module named 'fillingpatterns'"
     ]
    }
   ],
   "source": [
    "# Imports\n",
    "import pandas as pd\n",
    "import numpy as np\n",
    "import matplotlib\n",
    "import matplotlib.pyplot as plt\n",
    "import seaborn as sns\n",
    "import qrcode\n",
    "import fillingpatterns as fp\n",
    "\n",
    "sns.set_theme(style=\"whitegrid\")\n",
    "custom_params = {\"axes.spines.right\": False, \"axes.spines.top\": False}\n",
    "sns.set_theme(style=\"ticks\", rc=custom_params)\n",
    "#sns.set(font='Adobe Devanagari')\n",
    "sns.set_context(\"paper\", font_scale=0.8, rc={\"lines.linewidth\": 0.2, \"grid.linewidth\": 0.1})\n",
    "\n",
    "\n",
    "matplotlib.rcParams['mathtext.fontset'] = 'cm'\n",
    "matplotlib.rcParams['font.family'] = 'STIXGeneral'\n",
    "# Not italized latex\n",
    "matplotlib.rcParams['mathtext.default'] = 'regular'\n",
    "matplotlib.rcParams[\"font.weight\"] = \"light\"\n",
    "\n",
    "%config InlineBackend.figure_format='svg'"
   ]
  },
  {
   "cell_type": "code",
   "execution_count": null,
   "metadata": {},
   "outputs": [],
   "source": [
    "# To add QR codes to plot\n",
    "def add_QR_code(fig, link):\n",
    "    # Add QR code pointing to the github repository\n",
    "    qr = qrcode.QRCode(\n",
    "        # version=None,\n",
    "        box_size=10,\n",
    "        border=1,\n",
    "    )\n",
    "    qr.add_data(link)\n",
    "    qr.make(fit=False)\n",
    "    im = qr.make_image(fill_color=\"black\", back_color=\"transparent\")\n",
    "    newax = fig.add_axes([0.9, 0.9, 0.05, 0.05], anchor=\"NE\", zorder=1)\n",
    "    newax.imshow(im, resample=False, interpolation=\"none\", filternorm=False)\n",
    "    # Add link below qrcode\n",
    "    newax.plot([0, 0], [0, 0], color=\"white\", label=\"link\")\n",
    "    text = newax.annotate(\n",
    "        \"lin\",\n",
    "        xy=(0, 300),\n",
    "        xytext=(0, 300),\n",
    "        fontsize=30,\n",
    "        url=link,\n",
    "        bbox=dict(color=\"white\", alpha=1e-6, url=link),\n",
    "        alpha=0,\n",
    "    )\n",
    "    # Hide X and Y axes label marks\n",
    "    newax.xaxis.set_tick_params(labelbottom=False)\n",
    "    newax.yaxis.set_tick_params(labelleft=False)\n",
    "    # Hide X and Y axes tick marks\n",
    "    newax.set_xticks([])\n",
    "    newax.set_yticks([])\n",
    "    newax.set_axis_off()\n",
    "\n",
    "    return fig"
   ]
  },
  {
   "cell_type": "code",
   "execution_count": null,
   "metadata": {},
   "outputs": [],
   "source": [
    "# Get beam-beam schedule\n",
    "patt = fp.FillingPattern.from_json('../../../master_study/master_jobs/filling_scheme/custom_schemes/56B_filling_scheme_Colas_B2_2.json')\n",
    "patt.compute_beam_beam_schedule(n_lr_per_side=26)\n",
    "\n",
    "sched_b1 = patt.b1.bb_schedule\n",
    "sched_b2 = patt.b2.bb_schedule"
   ]
  }
 ],
 "metadata": {
  "kernelspec": {
   "display_name": "base",
   "language": "python",
   "name": "python3"
  },
  "language_info": {
   "codemirror_mode": {
    "name": "ipython",
    "version": 3
   },
   "file_extension": ".py",
   "mimetype": "text/x-python",
   "name": "python",
   "nbconvert_exporter": "python",
   "pygments_lexer": "ipython3",
   "version": "3.10.10"
  },
  "orig_nbformat": 4
 },
 "nbformat": 4,
 "nbformat_minor": 2
}
